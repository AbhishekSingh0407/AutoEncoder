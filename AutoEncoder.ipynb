{
  "nbformat": 4,
  "nbformat_minor": 0,
  "metadata": {
    "colab": {
      "provenance": []
    },
    "kernelspec": {
      "name": "python3",
      "display_name": "Python 3"
    },
    "language_info": {
      "name": "python"
    }
  },
  "cells": [
    {
      "cell_type": "markdown",
      "metadata": {
        "id": "XQRS7CpujM7Y"
      },
      "source": [
        "Abhishek Singh  \n",
        "Mat Nr: 229773"
      ]
    },
    {
      "cell_type": "markdown",
      "metadata": {
        "id": "WcF58VWft8Jg"
      },
      "source": [
        "Part 1: Revisiting Autoencoders"
      ]
    },
    {
      "cell_type": "code",
      "metadata": {
        "id": "vZkW3ur2d5jr"
      },
      "source": [
        "import matplotlib.pyplot as plt\n",
        "import numpy as np\n",
        "import pandas as pd\n",
        "import tensorflow as tf\n",
        "\n",
        "from sklearn.metrics import accuracy_score, precision_score, recall_score\n",
        "from sklearn.model_selection import train_test_split\n",
        "from tensorflow.keras import layers, losses\n",
        "from tensorflow.keras.datasets import fashion_mnist\n",
        "from tensorflow.keras.models import Model"
      ],
      "execution_count": null,
      "outputs": []
    },
    {
      "cell_type": "code",
      "metadata": {
        "colab": {
          "base_uri": "https://localhost:8080/"
        },
        "id": "1NAWP1yfwsug",
        "outputId": "4efae3a0-aa99-4cd7-ae7b-893ed4b2576b"
      },
      "source": [
        "print(tf.__version__)"
      ],
      "execution_count": null,
      "outputs": [
        {
          "output_type": "stream",
          "text": [
            "2.4.1\n"
          ],
          "name": "stdout"
        }
      ]
    },
    {
      "cell_type": "code",
      "metadata": {
        "colab": {
          "base_uri": "https://localhost:8080/"
        },
        "id": "aWWzA8HJTbVD",
        "outputId": "82a4fd5e-bbe6-44e5-838a-b1ac1fbd052c"
      },
      "source": [
        "# fashion_mnist = tf.keras.datasets.fashion_mnist\n",
        "(x_train, _), (x_test, _) = fashion_mnist.load_data()\n",
        "# (x_train, _), (x_test, _) = tf.keras.datasets.cifar10.load_data()\n",
        "\n",
        "x_train = x_train.astype('float32') / 255.\n",
        "x_test = x_test.astype('float32') / 255.\n",
        "\n",
        "print (x_train.shape)\n",
        "print (x_test.shape)"
      ],
      "execution_count": null,
      "outputs": [
        {
          "output_type": "stream",
          "text": [
            "Downloading data from https://storage.googleapis.com/tensorflow/tf-keras-datasets/train-labels-idx1-ubyte.gz\n",
            "32768/29515 [=================================] - 0s 0us/step\n",
            "Downloading data from https://storage.googleapis.com/tensorflow/tf-keras-datasets/train-images-idx3-ubyte.gz\n",
            "26427392/26421880 [==============================] - 0s 0us/step\n",
            "Downloading data from https://storage.googleapis.com/tensorflow/tf-keras-datasets/t10k-labels-idx1-ubyte.gz\n",
            "8192/5148 [===============================================] - 0s 0us/step\n",
            "Downloading data from https://storage.googleapis.com/tensorflow/tf-keras-datasets/t10k-images-idx3-ubyte.gz\n",
            "4423680/4422102 [==============================] - 0s 0us/step\n",
            "(60000, 28, 28)\n",
            "(10000, 28, 28)\n"
          ],
          "name": "stdout"
        }
      ]
    },
    {
      "cell_type": "code",
      "metadata": {
        "id": "JaQPyAGWTeti"
      },
      "source": [
        "latent_dim = 64\n",
        "\n",
        "class Autoencoder(Model):\n",
        "  def __init__(self, latent_dim):\n",
        "    super(Autoencoder, self).__init__()\n",
        "    self.latent_dim = latent_dim\n",
        "    self.encoder = tf.keras.Sequential([\n",
        "      layers.Flatten(),\n",
        "      layers.Dense(latent_dim, activation='relu'),\n",
        "    ])\n",
        "    self.decoder = tf.keras.Sequential([\n",
        "      layers.Dense(784, activation='sigmoid'),\n",
        "      # layers.Dense(1024, activation='sigmoid'),\n",
        "      layers.Reshape((28, 28))                    #original shape\n",
        "      # layers.Reshape((32, 32))\n",
        "    ])\n",
        "\n",
        "  def call(self, x):\n",
        "    encoded = self.encoder(x)\n",
        "    decoded = self.decoder(encoded)\n",
        "    return decoded\n",
        "\n",
        "autoencoder = Autoencoder(latent_dim)"
      ],
      "execution_count": null,
      "outputs": []
    },
    {
      "cell_type": "code",
      "metadata": {
        "id": "eYDdReU5TpiL"
      },
      "source": [
        "autoencoder.compile(optimizer='adam', loss=losses.MeanSquaredError())"
      ],
      "execution_count": null,
      "outputs": []
    },
    {
      "cell_type": "code",
      "metadata": {
        "colab": {
          "base_uri": "https://localhost:8080/"
        },
        "id": "edrp-s8bTsOT",
        "outputId": "028b87d0-3745-459f-f7cd-a17bb587a1e0"
      },
      "source": [
        "autoencoder.fit(x_train, x_train,\n",
        "                epochs=10,\n",
        "                shuffle=True,\n",
        "                validation_data=(x_test, x_test))"
      ],
      "execution_count": null,
      "outputs": [
        {
          "output_type": "stream",
          "text": [
            "Epoch 1/10\n",
            "1875/1875 [==============================] - 6s 3ms/step - loss: 0.0397 - val_loss: 0.0135\n",
            "Epoch 2/10\n",
            "1875/1875 [==============================] - 4s 2ms/step - loss: 0.0124 - val_loss: 0.0108\n",
            "Epoch 3/10\n",
            "1875/1875 [==============================] - 5s 2ms/step - loss: 0.0103 - val_loss: 0.0099\n",
            "Epoch 4/10\n",
            "1875/1875 [==============================] - 5s 2ms/step - loss: 0.0097 - val_loss: 0.0095\n",
            "Epoch 5/10\n",
            "1875/1875 [==============================] - 5s 2ms/step - loss: 0.0094 - val_loss: 0.0093\n",
            "Epoch 6/10\n",
            "1875/1875 [==============================] - 5s 2ms/step - loss: 0.0091 - val_loss: 0.0093\n",
            "Epoch 7/10\n",
            "1875/1875 [==============================] - 5s 2ms/step - loss: 0.0091 - val_loss: 0.0092\n",
            "Epoch 8/10\n",
            "1875/1875 [==============================] - 4s 2ms/step - loss: 0.0089 - val_loss: 0.0090\n",
            "Epoch 9/10\n",
            "1875/1875 [==============================] - 5s 2ms/step - loss: 0.0089 - val_loss: 0.0091\n",
            "Epoch 10/10\n",
            "1875/1875 [==============================] - 5s 2ms/step - loss: 0.0089 - val_loss: 0.0089\n"
          ],
          "name": "stdout"
        },
        {
          "output_type": "execute_result",
          "data": {
            "text/plain": [
              "<tensorflow.python.keras.callbacks.History at 0x7f2c65845510>"
            ]
          },
          "metadata": {
            "tags": []
          },
          "execution_count": 7
        }
      ]
    },
    {
      "cell_type": "code",
      "metadata": {
        "colab": {
          "base_uri": "https://localhost:8080/"
        },
        "id": "YeyDm1rjwfWI",
        "outputId": "e5655d9f-4bff-455c-cce6-d50585033c27"
      },
      "source": [],
      "execution_count": null,
      "outputs": [
        {
          "output_type": "stream",
          "text": [
            "2.4.1\n"
          ],
          "name": "stdout"
        }
      ]
    },
    {
      "cell_type": "code",
      "metadata": {
        "id": "bP4Mq2tHUAjS"
      },
      "source": [
        "encoded_imgs = autoencoder.encoder(x_test).numpy()\n",
        "decoded_imgs = autoencoder.decoder(encoded_imgs).numpy()"
      ],
      "execution_count": null,
      "outputs": []
    },
    {
      "cell_type": "code",
      "metadata": {
        "colab": {
          "base_uri": "https://localhost:8080/",
          "height": 264
        },
        "id": "9Av6ZAfLT5WC",
        "outputId": "9ecf7dbc-e72b-4c0c-fae4-b09c77ab3695"
      },
      "source": [
        "n = 10\n",
        "plt.figure(figsize=(20, 4))\n",
        "for i in range(n):\n",
        "  # display original\n",
        "  ax = plt.subplot(2, n, i + 1)\n",
        "  plt.imshow(x_test[i])\n",
        "  plt.title(\"original\")\n",
        "  plt.gray()\n",
        "  ax.get_xaxis().set_visible(False)\n",
        "  ax.get_yaxis().set_visible(False)\n",
        "\n",
        "  # display reconstruction\n",
        "  ax = plt.subplot(2, n, i + 1 + n)\n",
        "  plt.imshow(decoded_imgs[i])\n",
        "  plt.title(\"reconstructed\")\n",
        "  plt.gray()\n",
        "  ax.get_xaxis().set_visible(False)\n",
        "  ax.get_yaxis().set_visible(False)\n",
        "plt.show()"
      ],
      "execution_count": null,
      "outputs": [
        {
          "output_type": "display_data",
          "data": {
            "image/png": "[encoded data removed]",
            "text/plain": [
              "<Figure size 1440x288 with 20 Axes>"
            ]
          },
          "metadata": {
            "tags": [],
            "needs_background": "light"
          }
        }
      ]
    },
    {
      "cell_type": "markdown",
      "metadata": {
        "id": "LHMCNcRkuFAx"
      },
      "source": [
        "CNN encoder/decoder"
      ]
    },
    {
      "cell_type": "code",
      "metadata": {
        "id": "TpTPaPVq1Iin"
      },
      "source": [
        "import matplotlib.pyplot as plt\n",
        "import numpy as np\n",
        "import pandas as pd\n",
        "import tensorflow as tf\n",
        "from tensorflow import keras\n",
        "from sklearn.metrics import accuracy_score, precision_score, recall_score\n",
        "from sklearn.model_selection import train_test_split\n",
        "from tensorflow.keras import layers, losses\n",
        "from tensorflow.keras.datasets import fashion_mnist\n",
        "from tensorflow.keras.models import Model"
      ],
      "execution_count": null,
      "outputs": []
    },
    {
      "cell_type": "code",
      "metadata": {
        "colab": {
          "base_uri": "https://localhost:8080/"
        },
        "id": "NOe76VeweRfs",
        "outputId": "c4c99d75-db20-41dd-ed96-f9b27fff0ec1"
      },
      "source": [
        "(x_train, _), (x_test, _) = tf.keras.datasets.fashion_mnist.load_data()\n",
        "\n",
        "x_train = x_train.astype('float32') / 255.\n",
        "x_test = x_test.astype('float32') / 255.\n",
        "\n",
        "print (x_train.shape)\n",
        "print (x_test.shape)\n",
        "print(len(x_train))"
      ],
      "execution_count": null,
      "outputs": [
        {
          "output_type": "stream",
          "text": [
            "(60000, 28, 28)\n",
            "(10000, 28, 28)\n",
            "60000\n"
          ],
          "name": "stdout"
        }
      ]
    },
    {
      "cell_type": "markdown",
      "metadata": {
        "id": "RwsubvcOsOM_"
      },
      "source": [
        " encoder network, uses 3 convolutional layers with max pooling"
      ]
    },
    {
      "cell_type": "code",
      "metadata": {
        "id": "a4OigaureUXc"
      },
      "source": [
        "conv_encoder = keras.models.Sequential([\n",
        "    keras.layers.Reshape([28, 28, 1], input_shape=[28, 28]),\n",
        "    keras.layers.Conv2D(16, kernel_size=3, padding=\"same\", activation=\"relu\"),\n",
        "    keras.layers.MaxPool2D(pool_size=2),\n",
        "    keras.layers.Conv2D(32, kernel_size=3, padding=\"same\", activation=\"relu\"),\n",
        "    keras.layers.MaxPool2D(pool_size=2),\n",
        "    keras.layers.Conv2D(64, kernel_size=3, padding=\"same\", activation=\"relu\"),\n",
        "    keras.layers.MaxPool2D(pool_size=2)\n",
        "  ])\n",
        "conv_decoder = keras.models.Sequential([\n",
        "    keras.layers.Conv2DTranspose(32, kernel_size=3, strides=2, padding=\"valid\",\n",
        "    activation=\"relu\",\n",
        "    input_shape=[3, 3, 64]),\n",
        "    keras.layers.Conv2DTranspose(16, kernel_size=3, strides=2, padding=\"same\",\n",
        "    activation=\"relu\"),\n",
        "    keras.layers.Conv2DTranspose(1, kernel_size=3, strides=2, padding=\"same\",\n",
        "    activation=\"sigmoid\"),\n",
        "    keras.layers.Reshape([28, 28])  #Original Shape\n",
        "  ])\n",
        "conv_ae = keras.models.Sequential([conv_encoder, conv_decoder])"
      ],
      "execution_count": null,
      "outputs": []
    },
    {
      "cell_type": "code",
      "metadata": {
        "id": "F6xYnCS9ej91"
      },
      "source": [
        "conv_ae.compile(optimizer='adam', loss=losses.MeanSquaredError())"
      ],
      "execution_count": null,
      "outputs": []
    },
    {
      "cell_type": "code",
      "metadata": {
        "colab": {
          "base_uri": "https://localhost:8080/"
        },
        "id": "15FehkVQfc5O",
        "outputId": "7f0431c9-4399-493b-fbd0-081487a6b5d5"
      },
      "source": [
        "conv_ae.summary()"
      ],
      "execution_count": null,
      "outputs": [
        {
          "output_type": "stream",
          "text": [
            "Model: \"sequential_6\"\n",
            "_________________________________________________________________\n",
            "Layer (type)                 Output Shape              Param #   \n",
            "=================================================================\n",
            "sequential_4 (Sequential)    (None, 3, 3, 64)          23296     \n",
            "_________________________________________________________________\n",
            "sequential_5 (Sequential)    (None, 28, 28)            23233     \n",
            "=================================================================\n",
            "Total params: 46,529\n",
            "Trainable params: 46,529\n",
            "Non-trainable params: 0\n",
            "_________________________________________________________________\n"
          ],
          "name": "stdout"
        }
      ]
    },
    {
      "cell_type": "code",
      "metadata": {
        "colab": {
          "base_uri": "https://localhost:8080/"
        },
        "id": "7wdmE-PuffFM",
        "outputId": "8adbae5c-0b4b-4037-e16e-cbd97aafd062"
      },
      "source": [
        "conv_ae.fit(\n",
        "    x_train,\n",
        "    x_train,\n",
        "    epochs=50,\n",
        "    batch_size=256,\n",
        "    shuffle=False,\n",
        "    validation_data=(x_test, x_test)\n",
        ")"
      ],
      "execution_count": null,
      "outputs": [
        {
          "output_type": "stream",
          "text": [
            "Epoch 1/50\n",
            "235/235 [==============================] - 48s 204ms/step - loss: 0.1004 - val_loss: 0.0209\n",
            "Epoch 2/50\n",
            "235/235 [==============================] - 48s 204ms/step - loss: 0.0191 - val_loss: 0.0159\n",
            "Epoch 3/50\n",
            "235/235 [==============================] - 48s 205ms/step - loss: 0.0152 - val_loss: 0.0137\n",
            "Epoch 4/50\n",
            "235/235 [==============================] - 48s 205ms/step - loss: 0.0133 - val_loss: 0.0124\n",
            "Epoch 5/50\n",
            "235/235 [==============================] - 48s 205ms/step - loss: 0.0122 - val_loss: 0.0116\n",
            "Epoch 6/50\n",
            "235/235 [==============================] - 48s 204ms/step - loss: 0.0115 - val_loss: 0.0110\n",
            "Epoch 7/50\n",
            "235/235 [==============================] - 48s 204ms/step - loss: 0.0109 - val_loss: 0.0105\n",
            "Epoch 8/50\n",
            "235/235 [==============================] - 50s 212ms/step - loss: 0.0104 - val_loss: 0.0102\n",
            "Epoch 9/50\n",
            "235/235 [==============================] - 48s 204ms/step - loss: 0.0100 - val_loss: 0.0099\n",
            "Epoch 10/50\n",
            "235/235 [==============================] - 48s 205ms/step - loss: 0.0097 - val_loss: 0.0095\n",
            "Epoch 11/50\n",
            "235/235 [==============================] - 48s 205ms/step - loss: 0.0094 - val_loss: 0.0093\n",
            "Epoch 12/50\n",
            "235/235 [==============================] - 48s 206ms/step - loss: 0.0091 - val_loss: 0.0091\n",
            "Epoch 13/50\n",
            "235/235 [==============================] - 48s 205ms/step - loss: 0.0089 - val_loss: 0.0089\n",
            "Epoch 14/50\n",
            "235/235 [==============================] - 48s 205ms/step - loss: 0.0087 - val_loss: 0.0087\n",
            "Epoch 15/50\n",
            "235/235 [==============================] - 48s 205ms/step - loss: 0.0085 - val_loss: 0.0085\n",
            "Epoch 16/50\n",
            "235/235 [==============================] - 48s 205ms/step - loss: 0.0084 - val_loss: 0.0083\n",
            "Epoch 17/50\n",
            "235/235 [==============================] - 48s 205ms/step - loss: 0.0082 - val_loss: 0.0082\n",
            "Epoch 18/50\n",
            "235/235 [==============================] - 48s 206ms/step - loss: 0.0081 - val_loss: 0.0080\n",
            "Epoch 19/50\n",
            "235/235 [==============================] - 48s 206ms/step - loss: 0.0079 - val_loss: 0.0079\n",
            "Epoch 20/50\n",
            "235/235 [==============================] - 48s 206ms/step - loss: 0.0078 - val_loss: 0.0078\n",
            "Epoch 21/50\n",
            "235/235 [==============================] - 48s 206ms/step - loss: 0.0077 - val_loss: 0.0077\n",
            "Epoch 22/50\n",
            "235/235 [==============================] - 48s 206ms/step - loss: 0.0076 - val_loss: 0.0076\n",
            "Epoch 23/50\n",
            "235/235 [==============================] - 48s 206ms/step - loss: 0.0075 - val_loss: 0.0075\n",
            "Epoch 24/50\n",
            "235/235 [==============================] - 50s 215ms/step - loss: 0.0074 - val_loss: 0.0075\n",
            "Epoch 25/50\n",
            "235/235 [==============================] - 52s 223ms/step - loss: 0.0073 - val_loss: 0.0073\n",
            "Epoch 26/50\n",
            "235/235 [==============================] - 53s 224ms/step - loss: 0.0072 - val_loss: 0.0072\n",
            "Epoch 27/50\n",
            "235/235 [==============================] - 49s 210ms/step - loss: 0.0071 - val_loss: 0.0071\n",
            "Epoch 28/50\n",
            "235/235 [==============================] - 49s 207ms/step - loss: 0.0071 - val_loss: 0.0070\n",
            "Epoch 29/50\n",
            "235/235 [==============================] - 49s 207ms/step - loss: 0.0070 - val_loss: 0.0070\n",
            "Epoch 30/50\n",
            "235/235 [==============================] - 49s 207ms/step - loss: 0.0069 - val_loss: 0.0069\n",
            "Epoch 31/50\n",
            "235/235 [==============================] - 49s 208ms/step - loss: 0.0068 - val_loss: 0.0069\n",
            "Epoch 32/50\n",
            "235/235 [==============================] - 49s 208ms/step - loss: 0.0068 - val_loss: 0.0068\n",
            "Epoch 33/50\n",
            "235/235 [==============================] - 51s 218ms/step - loss: 0.0067 - val_loss: 0.0067\n",
            "Epoch 34/50\n",
            "235/235 [==============================] - 53s 226ms/step - loss: 0.0066 - val_loss: 0.0067\n",
            "Epoch 35/50\n",
            "235/235 [==============================] - 53s 227ms/step - loss: 0.0066 - val_loss: 0.0066\n",
            "Epoch 36/50\n",
            "235/235 [==============================] - 54s 229ms/step - loss: 0.0065 - val_loss: 0.0066\n",
            "Epoch 37/50\n",
            "235/235 [==============================] - 53s 227ms/step - loss: 0.0065 - val_loss: 0.0065\n",
            "Epoch 38/50\n",
            "235/235 [==============================] - 49s 207ms/step - loss: 0.0064 - val_loss: 0.0065\n",
            "Epoch 39/50\n",
            "235/235 [==============================] - 49s 207ms/step - loss: 0.0064 - val_loss: 0.0064\n",
            "Epoch 40/50\n",
            "235/235 [==============================] - 50s 213ms/step - loss: 0.0063 - val_loss: 0.0064\n",
            "Epoch 41/50\n",
            "235/235 [==============================] - 50s 212ms/step - loss: 0.0063 - val_loss: 0.0063\n",
            "Epoch 42/50\n",
            "235/235 [==============================] - 50s 211ms/step - loss: 0.0062 - val_loss: 0.0063\n",
            "Epoch 43/50\n",
            "235/235 [==============================] - 49s 210ms/step - loss: 0.0062 - val_loss: 0.0063\n",
            "Epoch 44/50\n",
            "235/235 [==============================] - 49s 209ms/step - loss: 0.0062 - val_loss: 0.0062\n",
            "Epoch 45/50\n",
            "235/235 [==============================] - 49s 209ms/step - loss: 0.0061 - val_loss: 0.0062\n",
            "Epoch 46/50\n",
            "235/235 [==============================] - 49s 207ms/step - loss: 0.0061 - val_loss: 0.0062\n",
            "Epoch 47/50\n",
            "235/235 [==============================] - 48s 206ms/step - loss: 0.0061 - val_loss: 0.0061\n",
            "Epoch 48/50\n",
            "235/235 [==============================] - 48s 206ms/step - loss: 0.0060 - val_loss: 0.0061\n",
            "Epoch 49/50\n",
            "235/235 [==============================] - 48s 206ms/step - loss: 0.0060 - val_loss: 0.0061\n",
            "Epoch 50/50\n",
            "235/235 [==============================] - 49s 206ms/step - loss: 0.0060 - val_loss: 0.0060\n"
          ],
          "name": "stdout"
        },
        {
          "output_type": "execute_result",
          "data": {
            "text/plain": [
              "<tensorflow.python.keras.callbacks.History at 0x7f2c60e87990>"
            ]
          },
          "metadata": {
            "tags": []
          },
          "execution_count": 17
        }
      ]
    },
    {
      "cell_type": "code",
      "metadata": {
        "colab": {
          "base_uri": "https://localhost:8080/",
          "height": 303
        },
        "id": "W1ONOAHwj860",
        "outputId": "2a747eb4-cf5e-40a7-c377-0051cfb84a62"
      },
      "source": [
        "def plot_image(image):\n",
        "  plt.imshow(image, cmap=\"binary\")\n",
        "  plt.axis(\"off\")\n",
        "\n",
        "def decoded_imgs(model, n_images=5):\n",
        "  reconstructions = model.predict(x_test[:n_images])\n",
        "  fig = plt.figure(figsize=(n_images * 3.5, 5))\n",
        "  for image_index in range(n_images):\n",
        "    plt.subplot(2, n_images, 1 + image_index)\n",
        "    plot_image(x_test[image_index])\n",
        "    plt.subplot(2, n_images, 1 + n_images + image_index)\n",
        "    plot_image(reconstructions[image_index])\n",
        "\n",
        "decoded_imgs(conv_ae)"
      ],
      "execution_count": null,
      "outputs": [
        {
          "output_type": "display_data",
          "data": {
            "image/png": "[encoded data removed]",
            "text/plain": [
              "<Figure size 1260x360 with 10 Axes>"
            ]
          },
          "metadata": {
            "tags": [],
            "needs_background": "light"
          }
        }
      ]
    }
  ]
}